{
  "nbformat": 4,
  "nbformat_minor": 0,
  "metadata": {
    "colab": {
      "provenance": [],
      "gpuType": "T4",
      "authorship_tag": "ABX9TyNL7tWr+CQXPbjyY9CQAxDU",
      "include_colab_link": true
    },
    "kernelspec": {
      "name": "python3",
      "display_name": "Python 3"
    },
    "language_info": {
      "name": "python"
    },
    "accelerator": "GPU"
  },
  "cells": [
    {
      "cell_type": "markdown",
      "metadata": {
        "id": "view-in-github",
        "colab_type": "text"
      },
      "source": [
        "<a href=\"https://colab.research.google.com/github/rkdune/roadtojepa/blob/main/predictor_with_two_encoder_road_2_jepa.ipynb\" target=\"_parent\"><img src=\"https://colab.research.google.com/assets/colab-badge.svg\" alt=\"Open In Colab\"/></a>"
      ]
    },
    {
      "cell_type": "code",
      "execution_count": 1,
      "metadata": {
        "colab": {
          "base_uri": "https://localhost:8080/",
          "height": 1000
        },
        "id": "8UqGHl3-n4os",
        "outputId": "95161d19-6520-4b0d-f583-abb56e18773e"
      },
      "outputs": [
        {
          "output_type": "stream",
          "name": "stdout",
          "text": [
            "Collecting allensdk\n",
            "  Downloading allensdk-2.16.2-py3-none-any.whl (3.1 MB)\n",
            "\u001b[2K     \u001b[90m━━━━━━━━━━━━━━━━━━━━━━━━━━━━━━━━━━━━━━━━\u001b[0m \u001b[32m3.1/3.1 MB\u001b[0m \u001b[31m10.9 MB/s\u001b[0m eta \u001b[36m0:00:00\u001b[0m\n",
            "\u001b[?25hCollecting psycopg2-binary (from allensdk)\n",
            "  Downloading psycopg2_binary-2.9.9-cp310-cp310-manylinux_2_17_x86_64.manylinux2014_x86_64.whl (3.0 MB)\n",
            "\u001b[2K     \u001b[90m━━━━━━━━━━━━━━━━━━━━━━━━━━━━━━━━━━━━━━━━\u001b[0m \u001b[32m3.0/3.0 MB\u001b[0m \u001b[31m19.0 MB/s\u001b[0m eta \u001b[36m0:00:00\u001b[0m\n",
            "\u001b[?25hCollecting hdmf!=3.5.*,!=3.6.*,!=3.7.*,!=3.8.* (from allensdk)\n",
            "  Downloading hdmf-3.14.2-py3-none-any.whl (336 kB)\n",
            "\u001b[2K     \u001b[90m━━━━━━━━━━━━━━━━━━━━━━━━━━━━━━━━━━━━━━━━\u001b[0m \u001b[32m336.0/336.0 kB\u001b[0m \u001b[31m8.4 MB/s\u001b[0m eta \u001b[36m0:00:00\u001b[0m\n",
            "\u001b[?25hRequirement already satisfied: h5py in /usr/local/lib/python3.10/dist-packages (from allensdk) (3.9.0)\n",
            "Requirement already satisfied: matplotlib in /usr/local/lib/python3.10/dist-packages (from allensdk) (3.7.1)\n",
            "Collecting numpy<1.24 (from allensdk)\n",
            "  Downloading numpy-1.23.5-cp310-cp310-manylinux_2_17_x86_64.manylinux2014_x86_64.whl (17.1 MB)\n",
            "\u001b[2K     \u001b[90m━━━━━━━━━━━━━━━━━━━━━━━━━━━━━━━━━━━━━━━━\u001b[0m \u001b[32m17.1/17.1 MB\u001b[0m \u001b[31m23.9 MB/s\u001b[0m eta \u001b[36m0:00:00\u001b[0m\n",
            "\u001b[?25hCollecting pandas==1.5.3 (from allensdk)\n",
            "  Downloading pandas-1.5.3-cp310-cp310-manylinux_2_17_x86_64.manylinux2014_x86_64.whl (12.1 MB)\n",
            "\u001b[2K     \u001b[90m━━━━━━━━━━━━━━━━━━━━━━━━━━━━━━━━━━━━━━━━\u001b[0m \u001b[32m12.1/12.1 MB\u001b[0m \u001b[31m22.2 MB/s\u001b[0m eta \u001b[36m0:00:00\u001b[0m\n",
            "\u001b[?25hRequirement already satisfied: jinja2 in /usr/local/lib/python3.10/dist-packages (from allensdk) (3.1.4)\n",
            "Collecting scipy<1.11 (from allensdk)\n",
            "  Downloading scipy-1.10.1-cp310-cp310-manylinux_2_17_x86_64.manylinux2014_x86_64.whl (34.4 MB)\n",
            "\u001b[2K     \u001b[90m━━━━━━━━━━━━━━━━━━━━━━━━━━━━━━━━━━━━━━━━\u001b[0m \u001b[32m34.4/34.4 MB\u001b[0m \u001b[31m9.9 MB/s\u001b[0m eta \u001b[36m0:00:00\u001b[0m\n",
            "\u001b[?25hRequirement already satisfied: six in /usr/local/lib/python3.10/dist-packages (from allensdk) (1.16.0)\n",
            "Collecting pynrrd (from allensdk)\n",
            "  Downloading pynrrd-1.0.0-py2.py3-none-any.whl (19 kB)\n",
            "Requirement already satisfied: future in /usr/local/lib/python3.10/dist-packages (from allensdk) (0.18.3)\n",
            "Requirement already satisfied: requests in /usr/local/lib/python3.10/dist-packages (from allensdk) (2.31.0)\n",
            "Collecting requests-toolbelt (from allensdk)\n",
            "  Downloading requests_toolbelt-1.0.0-py2.py3-none-any.whl (54 kB)\n",
            "\u001b[2K     \u001b[90m━━━━━━━━━━━━━━━━━━━━━━━━━━━━━━━━━━━━━━━━\u001b[0m \u001b[32m54.5/54.5 kB\u001b[0m \u001b[31m1.0 MB/s\u001b[0m eta \u001b[36m0:00:00\u001b[0m\n",
            "\u001b[?25hCollecting simplejson (from allensdk)\n",
            "  Downloading simplejson-3.19.2-cp310-cp310-manylinux_2_5_x86_64.manylinux1_x86_64.manylinux_2_17_x86_64.manylinux2014_x86_64.whl (137 kB)\n",
            "\u001b[2K     \u001b[90m━━━━━━━━━━━━━━━━━━━━━━━━━━━━━━━━━━━━━━━━\u001b[0m \u001b[32m137.9/137.9 kB\u001b[0m \u001b[31m7.9 MB/s\u001b[0m eta \u001b[36m0:00:00\u001b[0m\n",
            "\u001b[?25hRequirement already satisfied: scikit-image in /usr/local/lib/python3.10/dist-packages (from allensdk) (0.19.3)\n",
            "Collecting scikit-build (from allensdk)\n",
            "  Downloading scikit_build-0.18.0-py3-none-any.whl (85 kB)\n",
            "\u001b[2K     \u001b[90m━━━━━━━━━━━━━━━━━━━━━━━━━━━━━━━━━━━━━━━━\u001b[0m \u001b[32m85.3/85.3 kB\u001b[0m \u001b[31m6.7 MB/s\u001b[0m eta \u001b[36m0:00:00\u001b[0m\n",
            "\u001b[?25hRequirement already satisfied: statsmodels in /usr/local/lib/python3.10/dist-packages (from allensdk) (0.14.2)\n",
            "Collecting simpleitk (from allensdk)\n",
            "  Downloading SimpleITK-2.3.1-cp310-cp310-manylinux_2_17_x86_64.manylinux2014_x86_64.whl (52.7 MB)\n",
            "\u001b[2K     \u001b[90m━━━━━━━━━━━━━━━━━━━━━━━━━━━━━━━━━━━━━━━━\u001b[0m \u001b[32m52.7/52.7 MB\u001b[0m \u001b[31m8.5 MB/s\u001b[0m eta \u001b[36m0:00:00\u001b[0m\n",
            "\u001b[?25hCollecting argschema (from allensdk)\n",
            "  Downloading argschema-3.0.4.tar.gz (25 kB)\n",
            "  Installing build dependencies ... \u001b[?25l\u001b[?25hdone\n",
            "  Getting requirements to build wheel ... \u001b[?25l\u001b[?25hdone\n",
            "  Preparing metadata (pyproject.toml) ... \u001b[?25l\u001b[?25hdone\n",
            "Collecting glymur (from allensdk)\n",
            "  Downloading Glymur-0.13.4-py3-none-any.whl (2.7 MB)\n",
            "\u001b[2K     \u001b[90m━━━━━━━━━━━━━━━━━━━━━━━━━━━━━━━━━━━━━━━━\u001b[0m \u001b[32m2.7/2.7 MB\u001b[0m \u001b[31m94.4 MB/s\u001b[0m eta \u001b[36m0:00:00\u001b[0m\n",
            "\u001b[?25hCollecting xarray<2023.2.0 (from allensdk)\n",
            "  Downloading xarray-2023.1.0-py3-none-any.whl (973 kB)\n",
            "\u001b[2K     \u001b[90m━━━━━━━━━━━━━━━━━━━━━━━━━━━━━━━━━━━━━━━━\u001b[0m \u001b[32m973.1/973.1 kB\u001b[0m \u001b[31m64.4 MB/s\u001b[0m eta \u001b[36m0:00:00\u001b[0m\n",
            "\u001b[?25hCollecting pynwb (from allensdk)\n",
            "  Downloading pynwb-2.8.1-py3-none-any.whl (1.4 MB)\n",
            "\u001b[2K     \u001b[90m━━━━━━━━━━━━━━━━━━━━━━━━━━━━━━━━━━━━━━━━\u001b[0m \u001b[32m1.4/1.4 MB\u001b[0m \u001b[31m85.0 MB/s\u001b[0m eta \u001b[36m0:00:00\u001b[0m\n",
            "\u001b[?25hRequirement already satisfied: tables in /usr/local/lib/python3.10/dist-packages (from allensdk) (3.8.0)\n",
            "Requirement already satisfied: seaborn in /usr/local/lib/python3.10/dist-packages (from allensdk) (0.13.1)\n",
            "Requirement already satisfied: aiohttp in /usr/local/lib/python3.10/dist-packages (from allensdk) (3.9.5)\n",
            "Requirement already satisfied: nest-asyncio in /usr/local/lib/python3.10/dist-packages (from allensdk) (1.6.0)\n",
            "Requirement already satisfied: tqdm in /usr/local/lib/python3.10/dist-packages (from allensdk) (4.66.4)\n",
            "Collecting ndx-events (from allensdk)\n",
            "  Downloading ndx_events-0.2.0-py2.py3-none-any.whl (13 kB)\n",
            "Collecting boto3 (from allensdk)\n",
            "  Downloading boto3-1.34.142-py3-none-any.whl (139 kB)\n",
            "\u001b[2K     \u001b[90m━━━━━━━━━━━━━━━━━━━━━━━━━━━━━━━━━━━━━━━━\u001b[0m \u001b[32m139.2/139.2 kB\u001b[0m \u001b[31m21.4 MB/s\u001b[0m eta \u001b[36m0:00:00\u001b[0m\n",
            "\u001b[?25hCollecting semver (from allensdk)\n",
            "  Downloading semver-3.0.2-py3-none-any.whl (17 kB)\n",
            "Requirement already satisfied: cachetools in /usr/local/lib/python3.10/dist-packages (from allensdk) (5.3.3)\n",
            "Requirement already satisfied: sqlalchemy in /usr/local/lib/python3.10/dist-packages (from allensdk) (2.0.31)\n",
            "Requirement already satisfied: python-dateutil in /usr/local/lib/python3.10/dist-packages (from allensdk) (2.8.2)\n",
            "Requirement already satisfied: pytz>=2020.1 in /usr/local/lib/python3.10/dist-packages (from pandas==1.5.3->allensdk) (2023.4)\n",
            "Requirement already satisfied: jsonschema>=2.6.0 in /usr/local/lib/python3.10/dist-packages (from hdmf!=3.5.*,!=3.6.*,!=3.7.*,!=3.8.*->allensdk) (4.19.2)\n",
            "Collecting ruamel-yaml>=0.16 (from hdmf!=3.5.*,!=3.6.*,!=3.7.*,!=3.8.*->allensdk)\n",
            "  Downloading ruamel.yaml-0.18.6-py3-none-any.whl (117 kB)\n",
            "\u001b[2K     \u001b[90m━━━━━━━━━━━━━━━━━━━━━━━━━━━━━━━━━━━━━━━━\u001b[0m \u001b[32m117.8/117.8 kB\u001b[0m \u001b[31m17.6 MB/s\u001b[0m eta \u001b[36m0:00:00\u001b[0m\n",
            "\u001b[?25hRequirement already satisfied: packaging>=21.3 in /usr/local/lib/python3.10/dist-packages (from xarray<2023.2.0->allensdk) (24.1)\n",
            "Requirement already satisfied: aiosignal>=1.1.2 in /usr/local/lib/python3.10/dist-packages (from aiohttp->allensdk) (1.3.1)\n",
            "Requirement already satisfied: attrs>=17.3.0 in /usr/local/lib/python3.10/dist-packages (from aiohttp->allensdk) (23.2.0)\n",
            "Requirement already satisfied: frozenlist>=1.1.1 in /usr/local/lib/python3.10/dist-packages (from aiohttp->allensdk) (1.4.1)\n",
            "Requirement already satisfied: multidict<7.0,>=4.5 in /usr/local/lib/python3.10/dist-packages (from aiohttp->allensdk) (6.0.5)\n",
            "Requirement already satisfied: yarl<2.0,>=1.0 in /usr/local/lib/python3.10/dist-packages (from aiohttp->allensdk) (1.9.4)\n",
            "Requirement already satisfied: async-timeout<5.0,>=4.0 in /usr/local/lib/python3.10/dist-packages (from aiohttp->allensdk) (4.0.3)\n",
            "Collecting marshmallow<4.0,>=3.0.0 (from argschema->allensdk)\n",
            "  Downloading marshmallow-3.21.3-py3-none-any.whl (49 kB)\n",
            "\u001b[2K     \u001b[90m━━━━━━━━━━━━━━━━━━━━━━━━━━━━━━━━━━━━━━━━\u001b[0m \u001b[32m49.2/49.2 kB\u001b[0m \u001b[31m6.9 MB/s\u001b[0m eta \u001b[36m0:00:00\u001b[0m\n",
            "\u001b[?25hRequirement already satisfied: pyyaml in /usr/local/lib/python3.10/dist-packages (from argschema->allensdk) (6.0.1)\n",
            "Collecting botocore<1.35.0,>=1.34.142 (from boto3->allensdk)\n",
            "  Downloading botocore-1.34.142-py3-none-any.whl (12.4 MB)\n",
            "\u001b[2K     \u001b[90m━━━━━━━━━━━━━━━━━━━━━━━━━━━━━━━━━━━━━━━━\u001b[0m \u001b[32m12.4/12.4 MB\u001b[0m \u001b[31m86.5 MB/s\u001b[0m eta \u001b[36m0:00:00\u001b[0m\n",
            "\u001b[?25hCollecting jmespath<2.0.0,>=0.7.1 (from boto3->allensdk)\n",
            "  Downloading jmespath-1.0.1-py3-none-any.whl (20 kB)\n",
            "Collecting s3transfer<0.11.0,>=0.10.0 (from boto3->allensdk)\n",
            "  Downloading s3transfer-0.10.2-py3-none-any.whl (82 kB)\n",
            "\u001b[2K     \u001b[90m━━━━━━━━━━━━━━━━━━━━━━━━━━━━━━━━━━━━━━━━\u001b[0m \u001b[32m82.7/82.7 kB\u001b[0m \u001b[31m13.4 MB/s\u001b[0m eta \u001b[36m0:00:00\u001b[0m\n",
            "\u001b[?25hRequirement already satisfied: lxml in /usr/local/lib/python3.10/dist-packages (from glymur->allensdk) (4.9.4)\n",
            "Requirement already satisfied: MarkupSafe>=2.0 in /usr/local/lib/python3.10/dist-packages (from jinja2->allensdk) (2.1.5)\n",
            "Requirement already satisfied: contourpy>=1.0.1 in /usr/local/lib/python3.10/dist-packages (from matplotlib->allensdk) (1.2.1)\n",
            "Requirement already satisfied: cycler>=0.10 in /usr/local/lib/python3.10/dist-packages (from matplotlib->allensdk) (0.12.1)\n",
            "Requirement already satisfied: fonttools>=4.22.0 in /usr/local/lib/python3.10/dist-packages (from matplotlib->allensdk) (4.53.0)\n",
            "Requirement already satisfied: kiwisolver>=1.0.1 in /usr/local/lib/python3.10/dist-packages (from matplotlib->allensdk) (1.4.5)\n",
            "Requirement already satisfied: pillow>=6.2.0 in /usr/local/lib/python3.10/dist-packages (from matplotlib->allensdk) (9.4.0)\n",
            "Requirement already satisfied: pyparsing>=2.3.1 in /usr/local/lib/python3.10/dist-packages (from matplotlib->allensdk) (3.1.2)\n",
            "Collecting nptyping (from pynrrd->allensdk)\n",
            "  Downloading nptyping-2.5.0-py3-none-any.whl (37 kB)\n",
            "Requirement already satisfied: typing-extensions in /usr/local/lib/python3.10/dist-packages (from pynrrd->allensdk) (4.12.2)\n",
            "Requirement already satisfied: charset-normalizer<4,>=2 in /usr/local/lib/python3.10/dist-packages (from requests->allensdk) (3.3.2)\n",
            "Requirement already satisfied: idna<4,>=2.5 in /usr/local/lib/python3.10/dist-packages (from requests->allensdk) (3.7)\n",
            "Requirement already satisfied: urllib3<3,>=1.21.1 in /usr/local/lib/python3.10/dist-packages (from requests->allensdk) (2.0.7)\n",
            "Requirement already satisfied: certifi>=2017.4.17 in /usr/local/lib/python3.10/dist-packages (from requests->allensdk) (2024.6.2)\n",
            "Requirement already satisfied: distro in /usr/lib/python3/dist-packages (from scikit-build->allensdk) (1.7.0)\n",
            "Requirement already satisfied: setuptools>=42.0.0 in /usr/local/lib/python3.10/dist-packages (from scikit-build->allensdk) (67.7.2)\n",
            "Requirement already satisfied: tomli in /usr/local/lib/python3.10/dist-packages (from scikit-build->allensdk) (2.0.1)\n",
            "Requirement already satisfied: wheel>=0.32.0 in /usr/local/lib/python3.10/dist-packages (from scikit-build->allensdk) (0.43.0)\n",
            "Requirement already satisfied: networkx>=2.2 in /usr/local/lib/python3.10/dist-packages (from scikit-image->allensdk) (3.3)\n",
            "Requirement already satisfied: imageio>=2.4.1 in /usr/local/lib/python3.10/dist-packages (from scikit-image->allensdk) (2.31.6)\n",
            "Requirement already satisfied: tifffile>=2019.7.26 in /usr/local/lib/python3.10/dist-packages (from scikit-image->allensdk) (2024.6.18)\n",
            "Requirement already satisfied: PyWavelets>=1.1.1 in /usr/local/lib/python3.10/dist-packages (from scikit-image->allensdk) (1.6.0)\n",
            "Requirement already satisfied: greenlet!=0.4.17 in /usr/local/lib/python3.10/dist-packages (from sqlalchemy->allensdk) (3.0.3)\n",
            "Requirement already satisfied: patsy>=0.5.6 in /usr/local/lib/python3.10/dist-packages (from statsmodels->allensdk) (0.5.6)\n",
            "Requirement already satisfied: cython>=0.29.21 in /usr/local/lib/python3.10/dist-packages (from tables->allensdk) (3.0.10)\n",
            "Requirement already satisfied: numexpr>=2.6.2 in /usr/local/lib/python3.10/dist-packages (from tables->allensdk) (2.10.1)\n",
            "Requirement already satisfied: blosc2~=2.0.0 in /usr/local/lib/python3.10/dist-packages (from tables->allensdk) (2.0.0)\n",
            "Requirement already satisfied: py-cpuinfo in /usr/local/lib/python3.10/dist-packages (from tables->allensdk) (9.0.0)\n",
            "Requirement already satisfied: msgpack in /usr/local/lib/python3.10/dist-packages (from blosc2~=2.0.0->tables->allensdk) (1.0.8)\n",
            "Requirement already satisfied: jsonschema-specifications>=2023.03.6 in /usr/local/lib/python3.10/dist-packages (from jsonschema>=2.6.0->hdmf!=3.5.*,!=3.6.*,!=3.7.*,!=3.8.*->allensdk) (2023.12.1)\n",
            "Requirement already satisfied: referencing>=0.28.4 in /usr/local/lib/python3.10/dist-packages (from jsonschema>=2.6.0->hdmf!=3.5.*,!=3.6.*,!=3.7.*,!=3.8.*->allensdk) (0.35.1)\n",
            "Requirement already satisfied: rpds-py>=0.7.1 in /usr/local/lib/python3.10/dist-packages (from jsonschema>=2.6.0->hdmf!=3.5.*,!=3.6.*,!=3.7.*,!=3.8.*->allensdk) (0.18.1)\n",
            "Collecting ruamel.yaml.clib>=0.2.7 (from ruamel-yaml>=0.16->hdmf!=3.5.*,!=3.6.*,!=3.7.*,!=3.8.*->allensdk)\n",
            "  Downloading ruamel.yaml.clib-0.2.8-cp310-cp310-manylinux_2_17_x86_64.manylinux2014_x86_64.manylinux_2_24_x86_64.whl (526 kB)\n",
            "\u001b[2K     \u001b[90m━━━━━━━━━━━━━━━━━━━━━━━━━━━━━━━━━━━━━━━━\u001b[0m \u001b[32m526.7/526.7 kB\u001b[0m \u001b[31m18.7 MB/s\u001b[0m eta \u001b[36m0:00:00\u001b[0m\n",
            "\u001b[?25hBuilding wheels for collected packages: argschema\n",
            "  Building wheel for argschema (pyproject.toml) ... \u001b[?25l\u001b[?25hdone\n",
            "  Created wheel for argschema: filename=argschema-3.0.4-py2.py3-none-any.whl size=19079 sha256=27702e6ce42e67036fc238cd2fdd3ff6d7f01d943737fa7c6ec294ee9b06a842\n",
            "  Stored in directory: /root/.cache/pip/wheels/2a/1c/a0/2070782fe062fa827fa64ae376585cfdcfceb2165ab833b904\n",
            "Successfully built argschema\n",
            "Installing collected packages: simpleitk, simplejson, semver, scikit-build, ruamel.yaml.clib, psycopg2-binary, numpy, marshmallow, jmespath, scipy, ruamel-yaml, requests-toolbelt, pandas, nptyping, glymur, botocore, argschema, xarray, s3transfer, pynrrd, hdmf, boto3, pynwb, ndx-events, allensdk\n",
            "  Attempting uninstall: numpy\n",
            "    Found existing installation: numpy 1.25.2\n",
            "    Uninstalling numpy-1.25.2:\n",
            "      Successfully uninstalled numpy-1.25.2\n",
            "  Attempting uninstall: scipy\n",
            "    Found existing installation: scipy 1.11.4\n",
            "    Uninstalling scipy-1.11.4:\n",
            "      Successfully uninstalled scipy-1.11.4\n",
            "  Attempting uninstall: pandas\n",
            "    Found existing installation: pandas 2.0.3\n",
            "    Uninstalling pandas-2.0.3:\n",
            "      Successfully uninstalled pandas-2.0.3\n",
            "  Attempting uninstall: xarray\n",
            "    Found existing installation: xarray 2023.7.0\n",
            "    Uninstalling xarray-2023.7.0:\n",
            "      Successfully uninstalled xarray-2023.7.0\n",
            "\u001b[31mERROR: pip's dependency resolver does not currently take into account all the packages that are installed. This behaviour is the source of the following dependency conflicts.\n",
            "chex 0.1.86 requires numpy>=1.24.1, but you have numpy 1.23.5 which is incompatible.\n",
            "cudf-cu12 24.4.1 requires pandas<2.2.2dev0,>=2.0, but you have pandas 1.5.3 which is incompatible.\n",
            "google-colab 1.0.0 requires pandas==2.0.3, but you have pandas 1.5.3 which is incompatible.\n",
            "pandas-stubs 2.0.3.230814 requires numpy>=1.25.0; python_version >= \"3.9\", but you have numpy 1.23.5 which is incompatible.\u001b[0m\u001b[31m\n",
            "\u001b[0mSuccessfully installed allensdk-2.16.2 argschema-3.0.4 boto3-1.34.142 botocore-1.34.142 glymur-0.13.4 hdmf-3.14.2 jmespath-1.0.1 marshmallow-3.21.3 ndx-events-0.2.0 nptyping-2.5.0 numpy-1.23.5 pandas-1.5.3 psycopg2-binary-2.9.9 pynrrd-1.0.0 pynwb-2.8.1 requests-toolbelt-1.0.0 ruamel-yaml-0.18.6 ruamel.yaml.clib-0.2.8 s3transfer-0.10.2 scikit-build-0.18.0 scipy-1.10.1 semver-3.0.2 simpleitk-2.3.1 simplejson-3.19.2 xarray-2023.1.0\n"
          ]
        },
        {
          "output_type": "display_data",
          "data": {
            "application/vnd.colab-display-data+json": {
              "pip_warning": {
                "packages": [
                  "numpy"
                ]
              },
              "id": "6309d67c6b7e4f6494acaf92c07c8926"
            }
          },
          "metadata": {}
        }
      ],
      "source": [
        "!pip install allensdk"
      ]
    },
    {
      "cell_type": "code",
      "source": [
        "import numpy as np\n",
        "import matplotlib.pyplot as plt\n",
        "from allensdk.core.brain_observatory_cache import BrainObservatoryCache\n",
        "import torch\n",
        "import torch.nn as nn\n",
        "import torch.optim as optim\n",
        "from torch.utils.data import DataLoader, TensorDataset\n",
        "import seaborn as sns"
      ],
      "metadata": {
        "id": "iMOXZ6Igrre_"
      },
      "execution_count": 1,
      "outputs": []
    },
    {
      "cell_type": "code",
      "source": [
        "cache = BrainObservatoryCache(manifest_file='boc_manifest.json')\n",
        "\n",
        "expt_id = 649409874\n",
        "data_set = cache.get_ophys_experiment_data(expt_id)\n",
        "print(f\"Using experiment ID: {expt_id}\")\n",
        "\n",
        "dff_traces = data_set.get_dff_traces()\n",
        "neuron_traces = dff_traces[1]\n",
        "\n",
        "neuron_traces = (neuron_traces - np.min(neuron_traces)) / (np.max(neuron_traces) - np.min(neuron_traces))\n",
        "\n",
        "X = neuron_traces.T\n",
        "X = X.reshape((X.shape[0], 1, X.shape[1]))  # (samples, channels, time_steps)\n",
        "\n",
        "print(f\"Data shape: {X.shape}\")"
      ],
      "metadata": {
        "colab": {
          "base_uri": "https://localhost:8080/"
        },
        "id": "bV4YpsAOrsxn",
        "outputId": "f276c5ad-c239-4a86-a79a-ef31961fbe78"
      },
      "execution_count": 2,
      "outputs": [
        {
          "output_type": "stream",
          "name": "stderr",
          "text": [
            "WARNING:allensdk.api.queries.brain_observatory_api:Downloading ophys_experiment 649409874 NWB. This can take some time.\n",
            "2024-07-10 00:44:38,285 allensdk.api.api.retrieve_file_over_http INFO     Downloading URL: http://api.brain-map.org/api/v2/well_known_file_download/650079447\n",
            "INFO:allensdk.api.api.retrieve_file_over_http:Downloading URL: http://api.brain-map.org/api/v2/well_known_file_download/650079447\n"
          ]
        },
        {
          "output_type": "stream",
          "name": "stdout",
          "text": [
            "Using experiment ID: 649409874\n",
            "Data shape: (118996, 1, 26)\n"
          ]
        }
      ]
    },
    {
      "cell_type": "code",
      "source": [
        "# Split\n",
        "train_size = int(0.8 * len(X))\n",
        "X_train, X_test = X[:train_size], X[train_size:]\n",
        "X_train = torch.FloatTensor(X_train)\n",
        "X_test = torch.FloatTensor(X_test)\n",
        "\n",
        "# DataLoaders\n",
        "train_dataset = TensorDataset(X_train, X_train)\n",
        "test_dataset = TensorDataset(X_test, X_test)\n",
        "train_loader = DataLoader(train_dataset, batch_size=32, shuffle=True)\n",
        "test_loader = DataLoader(test_dataset, batch_size=32, shuffle=False)"
      ],
      "metadata": {
        "id": "8QmrhE0-ruqx"
      },
      "execution_count": 3,
      "outputs": []
    },
    {
      "cell_type": "code",
      "source": [
        "# TWO ENCODERS NO PREDICTOR. THIS DIDN'T WORK THAT WELL :(\n",
        "# ...DESPITE LeCunn stating in JEPA: \"Simple variations of the JEPA may use no predictor...\" Oh well. Maybe needed more data.\n",
        "\n",
        "class DenoisingEncoderModel(nn.Module):\n",
        "    def __init__(self, input_dim, hidden_dim, output_dim, momentum=0.998):\n",
        "        super(DenoisingEncoderModel, self).__init__()\n",
        "\n",
        "        # Encoder for noisy data (Enc(x))\n",
        "        self.encoder_x = nn.Sequential(\n",
        "            nn.Linear(input_dim, hidden_dim),\n",
        "            nn.ReLU(),\n",
        "            nn.Linear(hidden_dim, output_dim)\n",
        "        )\n",
        "\n",
        "        # Encoder for original data (Enc(y))\n",
        "        self.encoder_y = nn.Sequential(\n",
        "            nn.Linear(input_dim, hidden_dim),\n",
        "            nn.ReLU(),\n",
        "            nn.Linear(hidden_dim, output_dim)\n",
        "        )\n",
        "\n",
        "        # Initialize Enc(y) with Enc(x) weights\n",
        "        self.encoder_y.load_state_dict(self.encoder_x.state_dict())\n",
        "\n",
        "        # Disable gradient computation for Enc(y)\n",
        "        for param in self.encoder_y.parameters():\n",
        "            param.requires_grad = False\n",
        "\n",
        "        self.momentum = momentum\n",
        "        self.mse_loss = nn.MSELoss()\n",
        "\n",
        "    def forward(self, x, y):\n",
        "        # Encode noisy data\n",
        "        encoded_x = self.encoder_x(x)\n",
        "\n",
        "        # Encode original data (no gradients)\n",
        "        with torch.no_grad():\n",
        "            encoded_y = self.encoder_y(y)\n",
        "\n",
        "        # Calculate MSE loss\n",
        "        loss = self.mse_loss(encoded_x, encoded_y)\n",
        "\n",
        "        return encoded_x, encoded_y, loss\n",
        "\n",
        "    def update_moving_average(self):\n",
        "        # Update Enc(y) as a moving average of Enc(x)\n",
        "        with torch.no_grad():\n",
        "            for param_x, param_y in zip(self.encoder_x.parameters(), self.encoder_y.parameters()):\n",
        "                param_y.data = self.momentum * param_y.data + (1.0 - self.momentum) * param_x.data"
      ],
      "metadata": {
        "id": "CsQsLQR8r3px"
      },
      "execution_count": 4,
      "outputs": []
    },
    {
      "cell_type": "code",
      "source": [
        "# FULL JEPA INCLUDING PREDICTOR IMPLEMENTED WITH MLPs\n",
        "class DenoisingPredictorModel(nn.Module):\n",
        "    def __init__(self, input_dim, hidden_dim, output_dim, momentum=0.998):\n",
        "        super(DenoisingPredictorModel, self).__init__()\n",
        "\n",
        "        # Encoder for noisy data (Enc(x))\n",
        "        self.encoder_x = nn.Sequential(\n",
        "            nn.Linear(input_dim, hidden_dim),\n",
        "            nn.LeakyReLU(),\n",
        "            nn.Linear(hidden_dim, output_dim),\n",
        "            nn.LeakyReLU(),\n",
        "            nn.Linear(output_dim, output_dim),\n",
        "            nn.LeakyReLU(),\n",
        "            nn.Linear(output_dim, output_dim),\n",
        "            nn.LeakyReLU(),\n",
        "            nn.Linear(output_dim, output_dim),\n",
        "        )\n",
        "\n",
        "        # Encoder for original data (Enc(y))\n",
        "        self.encoder_y = nn.Sequential(\n",
        "            nn.Linear(input_dim, hidden_dim),\n",
        "            nn.LeakyReLU(),\n",
        "            nn.Linear(hidden_dim, output_dim),\n",
        "            nn.LeakyReLU(),\n",
        "            nn.Linear(output_dim, output_dim),\n",
        "            nn.LeakyReLU(),\n",
        "            nn.Linear(output_dim, output_dim),\n",
        "            nn.LeakyReLU(),\n",
        "            nn.Linear(output_dim, output_dim),\n",
        "        )\n",
        "\n",
        "        # Predictor network\n",
        "        self.predictor = nn.Sequential(\n",
        "            nn.Linear(output_dim, hidden_dim),\n",
        "            nn.LeakyReLU(),\n",
        "            nn.Linear(hidden_dim, hidden_dim),\n",
        "            nn.LeakyReLU(),\n",
        "            nn.Linear(hidden_dim, hidden_dim),\n",
        "            nn.LeakyReLU(),\n",
        "            nn.Linear(hidden_dim, output_dim)\n",
        "        )\n",
        "\n",
        "        # Initialize Enc(y) with Enc(x) weights\n",
        "        self.encoder_y.load_state_dict(self.encoder_x.state_dict())\n",
        "\n",
        "        # Disable gradient computation for Enc(y)\n",
        "        for param in self.encoder_y.parameters():\n",
        "            param.requires_grad = False\n",
        "\n",
        "        self.momentum = momentum\n",
        "        self.mse_loss = nn.MSELoss()\n",
        "\n",
        "    def forward(self, x, y):\n",
        "        # Encode noisy data\n",
        "        encoded_x = self.encoder_x(x)\n",
        "\n",
        "        # Predict Enc(y) from Enc(x)\n",
        "        pred_y = self.predictor(encoded_x)\n",
        "\n",
        "        # Encode original data (no gradients)\n",
        "        with torch.no_grad():\n",
        "            encoded_y = self.encoder_y(y)\n",
        "\n",
        "        # Calculate MSE loss\n",
        "        loss = self.mse_loss(pred_y, encoded_y)\n",
        "\n",
        "        return pred_y, encoded_y, loss\n",
        "\n",
        "    def update_moving_average(self):\n",
        "        # Update Enc(y) as a moving average of Enc(x)\n",
        "        with torch.no_grad():\n",
        "            for param_x, param_y in zip(self.encoder_x.parameters(), self.encoder_y.parameters()):\n",
        "                param_y.data = self.momentum * param_y.data + (1.0 - self.momentum) * param_x.data\n",
        "\n",
        "def add_noise(data, noise_level):\n",
        "    return data + noise_level * torch.randn_like(data)"
      ],
      "metadata": {
        "id": "fDzf2hRiM3FN"
      },
      "execution_count": 21,
      "outputs": []
    },
    {
      "cell_type": "code",
      "source": [
        "device = torch.device(\"cuda\" if torch.cuda.is_available() else \"cpu\")\n",
        "print(device)\n",
        "\n",
        "input_dim = X.shape[2]\n",
        "hidden_dim = max(64, input_dim // 2)\n",
        "output_dim = hidden_dim\n",
        "num_epochs = 5\n",
        "learning_rate = 5e-5\n",
        "noise_level = 0.5\n",
        "train_losses = []\n",
        "test_losses = []\n",
        "\n",
        "model = DenoisingPredictorModel(input_dim=input_dim, hidden_dim=hidden_dim, output_dim=output_dim)\n",
        "optimizer = torch.optim.Adam(model.parameters(), lr=learning_rate)\n",
        "\n",
        "for epoch in range(num_epochs):\n",
        "    model.train()\n",
        "    epoch_train_loss = 0.0\n",
        "    for batch_x, _ in train_loader:\n",
        "        optimizer.zero_grad()\n",
        "        noisy_x = add_noise(batch_x, noise_level)  # Add noise to input for Enc(x)\n",
        "        _, _, loss = model(noisy_x, batch_x)  # Use noisy data for input and clean data for target\n",
        "        loss.backward()\n",
        "        optimizer.step()\n",
        "        model.update_moving_average()\n",
        "        epoch_train_loss += loss.item()\n",
        "\n",
        "    avg_train_loss = epoch_train_loss / len(train_loader)\n",
        "    train_losses.append(avg_train_loss)\n",
        "\n",
        "    model.eval()\n",
        "    epoch_test_loss = 0.0\n",
        "    with torch.no_grad():\n",
        "        for batch_x, _ in test_loader:\n",
        "            noisy_x = add_noise(batch_x, noise_level)  # Add noise to test data\n",
        "            _, _, loss = model(noisy_x, batch_x)  # Use noisy data for input and clean data for target\n",
        "            epoch_test_loss += loss.item()\n",
        "\n",
        "    avg_test_loss = epoch_test_loss / len(test_loader)\n",
        "    test_losses.append(avg_test_loss)\n",
        "\n",
        "    print(f\"Epoch [{epoch+1}/{num_epochs}], Train Loss: {avg_train_loss:.9f}, Test Loss: {avg_test_loss:.9f}\")"
      ],
      "metadata": {
        "colab": {
          "base_uri": "https://localhost:8080/"
        },
        "id": "cisqMqy2r_dK",
        "outputId": "fffc8e30-de8b-42e1-ac2a-5e9c92896df8"
      },
      "execution_count": 23,
      "outputs": [
        {
          "output_type": "stream",
          "name": "stdout",
          "text": [
            "cuda\n",
            "Epoch [1/5], Train Loss: 0.000517576, Test Loss: 0.000019817\n",
            "Epoch [2/5], Train Loss: 0.000012042, Test Loss: 0.000013709\n",
            "Epoch [3/5], Train Loss: 0.000009205, Test Loss: 0.000011471\n",
            "Epoch [4/5], Train Loss: 0.000008414, Test Loss: 0.000010920\n",
            "Epoch [5/5], Train Loss: 0.000008911, Test Loss: 0.000011862\n"
          ]
        }
      ]
    },
    {
      "cell_type": "code",
      "source": [
        "plt.figure(figsize=(10, 6))\n",
        "plt.plot(train_losses, label='Train Loss')\n",
        "plt.plot(test_losses, label='Test Loss')\n",
        "plt.xlabel('Epoch')\n",
        "plt.ylabel('Loss')\n",
        "plt.title('Training and Testing Losses')\n",
        "plt.ylim(0.000001,0.0001)\n",
        "plt.legend()\n",
        "plt.show()"
      ],
      "metadata": {
        "colab": {
          "base_uri": "https://localhost:8080/",
          "height": 564
        },
        "id": "7d7N538yuhIe",
        "outputId": "51590ab9-cde4-4691-cbd2-ac93cdc31789"
      },
      "execution_count": 26,
      "outputs": [
        {
          "output_type": "display_data",
          "data": {
            "text/plain": [
              "<Figure size 1000x600 with 1 Axes>"
            ],
            "image/png": "[encoded data removed]"
          },
          "metadata": {}
        }
      ]
    }
  ]
}